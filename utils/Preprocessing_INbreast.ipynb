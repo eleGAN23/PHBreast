{
 "cells": [
  {
   "cell_type": "code",
   "execution_count": 1,
   "id": "b3af3273",
   "metadata": {},
   "outputs": [],
   "source": [
    "import os\n",
    "import pandas as pd\n",
    "import numpy as np\n",
    "import torch\n",
    "import tensorflow as tf # Use tf to read images because Pillow causes problems\n",
    "import matplotlib.pyplot as plt\n",
    "from sklearn.model_selection import train_test_split"
   ]
  },
  {
   "cell_type": "code",
   "execution_count": 2,
   "id": "c3694f79",
   "metadata": {},
   "outputs": [],
   "source": [
    "# Path to INbreast folder containing INbreast.xls and an 'images' folder\n",
    "# with all DICOM images converted to PNG\n",
    "PATH = 'INbreast'"
   ]
  },
  {
   "cell_type": "markdown",
   "id": "479e76e8",
   "metadata": {},
   "source": [
    "# Create DataFrames"
   ]
  },
  {
   "cell_type": "code",
   "execution_count": 3,
   "id": "b0443192",
   "metadata": {},
   "outputs": [
    {
     "data": {
      "text/plain": [
       "410"
      ]
     },
     "execution_count": 3,
     "metadata": {},
     "output_type": "execute_result"
    }
   ],
   "source": [
    "test_list = [ f for f in os.listdir(PATH+\"/images\")]\n",
    "test_list.sort()\n",
    "len(test_list)"
   ]
  },
  {
   "cell_type": "code",
   "execution_count": 4,
   "id": "bb2ad098",
   "metadata": {},
   "outputs": [],
   "source": [
    "# Create lists for pandas df\n",
    "fname = []\n",
    "patients = []\n",
    "views = []\n",
    "sides = []\n",
    "\n",
    "for i in range(len(test_list)):\n",
    "    l = test_list[i].split(\"_\")\n",
    "    fname.append(l[0])\n",
    "    patients.append(l[1])\n",
    "    sides.append(l[3])\n",
    "    views.append(l[4])\n",
    "\n",
    "df = pd.DataFrame(list(zip(fname, patients, sides, views, test_list)), \n",
    "                  columns=['image_id', 'patient_id', 'side', 'view', 'filename'])"
   ]
  },
  {
   "cell_type": "code",
   "execution_count": 5,
   "id": "6dd40ff8",
   "metadata": {},
   "outputs": [],
   "source": [
    "df_xls = pd.read_excel(\n",
    "    PATH + \"/INbreast.xls\", \n",
    "    dtype={'File Name': str}, \n",
    "    usecols=[\"File Name\", \"Bi-Rads\", \"Acquisition date\", \"Laterality\", \"View\"])\n",
    "df_xls = df_xls.rename(columns={\"File Name\": \"image_id\", \"Acquisition date\": \"date\"})"
   ]
  },
  {
   "cell_type": "code",
   "execution_count": 6,
   "id": "67368cb2",
   "metadata": {},
   "outputs": [],
   "source": [
    "# Add 'label' columns from BI-RADS categories\n",
    "\n",
    "label = []\n",
    "for index, row in df_xls.iterrows():\n",
    "    birads = row[\"Bi-Rads\"]\n",
    "    if (type(birads) is str):\n",
    "        birads = int(birads[0])\n",
    "    if (birads == 1 or birads == 2):\n",
    "        label.append(0)\n",
    "    elif (birads == 3):\n",
    "        label.append(-1)\n",
    "    else:\n",
    "        label.append(1)\n",
    "    \n",
    "df_xls[\"label\"] = label"
   ]
  },
  {
   "cell_type": "code",
   "execution_count": 7,
   "id": "3edb6166",
   "metadata": {},
   "outputs": [
    {
     "data": {
      "text/plain": [
       "409"
      ]
     },
     "execution_count": 7,
     "metadata": {},
     "output_type": "execute_result"
    }
   ],
   "source": [
    "# Merge the two dataframes\n",
    "merged_df = pd.merge(df, df_xls, how='left', on=['image_id'])\n",
    "merged_df = merged_df.filter([\"image_id\", \"patient_id\", \"side\", \"View\", \"filename\", \"date\", \"Bi-Rads\",\"label\"])\n",
    "merged_df = merged_df.rename(columns={\"View\": \"view\", \"Bi-rads\": \"birads\"})\n",
    "merged_df = merged_df.sort_values(by=[\"patient_id\", \"date\", \"side\", \"view\"])\n",
    "merged_df = merged_df[merged_df.view.isin([\"CC\", \"MLO\"])]\n",
    "len(merged_df)"
   ]
  },
  {
   "cell_type": "code",
   "execution_count": 8,
   "id": "bb38b70e",
   "metadata": {},
   "outputs": [],
   "source": [
    "# Handle cases of same patient with multiple exams (different dates)\n",
    "# + remove cases that don't have two views\n",
    "# + if num_views = 4, remove cases that don't have 4 views\n",
    "# + remove label=-1 aka birads=3\n",
    "\n",
    "def clean_df(df, num_views=2):    \n",
    "    grouped = df.groupby([\"patient_id\", \"side\", \"view\"])\n",
    "    for name, group in grouped:\n",
    "        # if there is more than 1 date\n",
    "        if len(set(group[\"date\"])) > 1:\n",
    "            date_max = max(group[\"date\"])\n",
    "            df = df.drop(group[group.date != date_max].index)\n",
    "            \n",
    "        # if there isn't more than 1 date but there are still multiple images\n",
    "        # aka there is a duplicate\n",
    "        elif len(group) > 1:\n",
    "            df = df.drop(list(group.index)[-1])\n",
    "\n",
    "    grouped = df.groupby([\"patient_id\", \"side\"])\n",
    "    for name, group in grouped:\n",
    "        if len(group) < 2:\n",
    "            df = df.drop(index=group.index)\n",
    "    \n",
    "    df = df[df.label.isin([0, 1])]\n",
    "    \n",
    "    if num_views == 4:\n",
    "        grouped = df.groupby([\"patient_id\", \"view\"])\n",
    "        for name, group in grouped:\n",
    "            if (len(group) < 2):\n",
    "                df = df.drop(index=group.index)\n",
    "    \n",
    "    df = df.sort_values(by=[\"patient_id\", \"side\", \"view\"])\n",
    "    df = df.reset_index(drop=True)\n",
    "    return df"
   ]
  },
  {
   "cell_type": "code",
   "execution_count": 9,
   "id": "fce36145",
   "metadata": {},
   "outputs": [
    {
     "data": {
      "text/plain": [
       "(352, 296)"
      ]
     },
     "execution_count": 9,
     "metadata": {},
     "output_type": "execute_result"
    }
   ],
   "source": [
    "two_views_df = clean_df(merged_df, num_views=2)\n",
    "four_views_df = clean_df(merged_df, num_views=4)\n",
    "len(two_views_df), len(four_views_df)"
   ]
  },
  {
   "cell_type": "code",
   "execution_count": 10,
   "id": "b7644acf",
   "metadata": {},
   "outputs": [],
   "source": [
    "# Save dataframes\n",
    "# two_views_df.to_pickle(f\"{PATH}/two_views_df.pkl\")\n",
    "# four_views_df.to_pickle(f\"{PATH}/four_views_df.pkl\")"
   ]
  },
  {
   "cell_type": "markdown",
   "id": "1841d442",
   "metadata": {},
   "source": [
    "# Create splits"
   ]
  },
  {
   "cell_type": "code",
   "execution_count": 11,
   "id": "608d537a",
   "metadata": {},
   "outputs": [],
   "source": [
    "SEED = 42\n",
    "NUM_VIEWS = 2\n",
    "assert NUM_VIEWS in [2, 4]"
   ]
  },
  {
   "cell_type": "code",
   "execution_count": 12,
   "id": "27783521",
   "metadata": {},
   "outputs": [
    {
     "data": {
      "text/plain": [
       "352"
      ]
     },
     "execution_count": 12,
     "metadata": {},
     "output_type": "execute_result"
    }
   ],
   "source": [
    "# Define/load dataframe\n",
    "\n",
    "if NUM_VIEWS == 2:\n",
    "    df = two_views_df\n",
    "    # df = pd.read_pickle(f\"{SAVE_PATH}/two_views_df.pkl\")\n",
    "else:\n",
    "    df = four_views_df\n",
    "    # df = pd.read_pickle(f\"{SAVE_PATH}/four_views_df.pkl\")\n",
    "    \n",
    "len(df)"
   ]
  },
  {
   "cell_type": "code",
   "execution_count": 13,
   "id": "4cd1241b",
   "metadata": {},
   "outputs": [],
   "source": [
    "if NUM_VIEWS == 2:\n",
    "    X, y = [], []\n",
    "    grouped = df.groupby([\"patient_id\", \"side\"])\n",
    "    for name, group in grouped:\n",
    "        X.append(name[0] + \"_\" + name[1])\n",
    "        y.append(list(group['label'])[0])\n",
    "else:\n",
    "    X = df.patient_id.unique().tolist()"
   ]
  },
  {
   "cell_type": "code",
   "execution_count": 14,
   "id": "0881eea7",
   "metadata": {},
   "outputs": [],
   "source": [
    "if NUM_VIEWS == 2:\n",
    "    X_train, X_test, y_train, y_test = train_test_split(X, y, test_size=0.3, random_state=SEED, stratify=y)\n",
    "else:\n",
    "    X_train, X_test = train_test_split(X, test_size=0.2, random_state=SEED)"
   ]
  },
  {
   "cell_type": "markdown",
   "id": "63d1af3c",
   "metadata": {},
   "source": [
    "# Load data"
   ]
  },
  {
   "cell_type": "code",
   "execution_count": 15,
   "id": "236c369d",
   "metadata": {},
   "outputs": [],
   "source": [
    "# Read and resize image\n",
    "def get_image(path):\n",
    "    img = tf.io.read_file(path)\n",
    "    img = tf.image.decode_png(img)\n",
    "    img = tf.image.resize(img, (600, 500))\n",
    "    img = np.asarray(img).squeeze()\n",
    "    return img\n",
    "\n",
    "# Load all data into memory (for faster training)\n",
    "def load_data(images_path, pat_list, df, num_views):\n",
    "    data = []\n",
    "    pos = 0\n",
    "    \n",
    "    for elem in pat_list:\n",
    "        if num_views == 2:\n",
    "            pat_id, side = elem.split(\"_\")\n",
    "            pat_df = df[(df.patient_id==pat_id) & (df.side==side)]\n",
    "        else:\n",
    "            pat_id = elem\n",
    "            pat_df = df[df.patient_id==pat_id]\n",
    "        \n",
    "\n",
    "        cc_name = pat_df.loc[pat_df.view=='CC', 'filename'].tolist()\n",
    "        mlo_name = pat_df.loc[pat_df.view=='MLO', 'filename'].tolist()\n",
    "        \n",
    "        cc_image = get_image(images_path + '/' + cc_name[0])\n",
    "        mlo_image = get_image(images_path + '/' + mlo_name[0])\n",
    "        \n",
    "        if num_views == 2:\n",
    "            image = np.stack([cc_image, mlo_image])\n",
    "            label = pat_df['label'].tolist()[0]\n",
    "            \n",
    "            if label == 1:\n",
    "                pos += 1\n",
    "        else:\n",
    "            r_cc_image = np.flip(get_image(images_path + '/' + cc_name[1]), axis=1)\n",
    "            r_mlo_image = np.flip(get_image(images_path + '/' + mlo_name[1]), axis=1)\n",
    "            image = np.stack((cc_image, mlo_image, r_cc_image, r_mlo_image))\n",
    "            \n",
    "            label_sx = pat_df['label'].tolist()[0] \n",
    "            label_dx = pat_df['label'].tolist()[2]\n",
    "            label = (label_sx, label_dx)\n",
    "            \n",
    "            if label_sx == 1:\n",
    "                pos += 1\n",
    "\n",
    "            if label_dx == 1:\n",
    "                pos += 1\n",
    "        \n",
    "        data.append([torch.FloatTensor(image), label])\n",
    "        \n",
    "    return data, pos\n",
    "\n",
    "def plot_exam(exam, num_views):\n",
    "    print(\"Images have shape: \", exam.shape)\n",
    "    fig, axes = plt.subplots(1, num_views)\n",
    "    axes[0].imshow(exam[0, :, :], cmap=\"gray\")\n",
    "    axes[1].imshow(exam[1, :, :], cmap=\"gray\")\n",
    "    if num_views == 4:\n",
    "        axes[2].imshow(exam[2, :, :], cmap=\"gray\")\n",
    "        axes[3].imshow(exam[3, :, :], cmap=\"gray\")"
   ]
  },
  {
   "cell_type": "code",
   "execution_count": 16,
   "id": "2221deaf",
   "metadata": {},
   "outputs": [
    {
     "name": "stdout",
     "output_type": "stream",
     "text": [
      "Len train:  123\n",
      "Len test:  53\n",
      "Train: pos 34, neg 89\n",
      "Test: pos 14, neg 39\n"
     ]
    }
   ],
   "source": [
    "train_data, pos = load_data(PATH+'/images', X_train, df, NUM_VIEWS)\n",
    "test_data, vpos = load_data(PATH+'/images', X_test, df, NUM_VIEWS)\n",
    "\n",
    "print(\"Len train: \", len(train_data))\n",
    "print(\"Len test: \", len(test_data))\n",
    "tot_train = len(train_data) if NUM_VIEWS == 2 else len(train_data)*2\n",
    "tot_test = len(test_data) if NUM_VIEWS == 2 else len(test_data)*2\n",
    "print(f\"Train: pos {pos}, neg {tot_train - pos}\")\n",
    "print(f\"Test: pos {vpos}, neg {tot_test - vpos}\")"
   ]
  },
  {
   "cell_type": "code",
   "execution_count": 17,
   "id": "939f252c",
   "metadata": {},
   "outputs": [
    {
     "name": "stdout",
     "output_type": "stream",
     "text": [
      "Images have shape:  torch.Size([2, 600, 500])\n"
     ]
    },
    {
     "data": {
      "image/png": "[encoded data removed]",
      "text/plain": [
       "<Figure size 432x288 with 2 Axes>"
      ]
     },
     "metadata": {
      "needs_background": "light"
     },
     "output_type": "display_data"
    }
   ],
   "source": [
    "plot_exam(train_data[0][0], num_views=NUM_VIEWS)"
   ]
  },
  {
   "cell_type": "code",
   "execution_count": 18,
   "id": "08a585da",
   "metadata": {},
   "outputs": [
    {
     "name": "stdout",
     "output_type": "stream",
     "text": [
      "Images have shape:  torch.Size([2, 600, 500])\n"
     ]
    },
    {
     "data": {
      "image/png": "[encoded data removed]",
      "text/plain": [
       "<Figure size 432x288 with 2 Axes>"
      ]
     },
     "metadata": {
      "needs_background": "light"
     },
     "output_type": "display_data"
    }
   ],
   "source": [
    "plot_exam(test_data[0][0], num_views=NUM_VIEWS)"
   ]
  },
  {
   "cell_type": "code",
   "execution_count": 19,
   "id": "30f38a81",
   "metadata": {},
   "outputs": [],
   "source": [
    "# Save data\n",
    "# torch.save(train_data, f\"{PATH_SAVE}/training_{NUM_VIEWS}views.pt\")    \n",
    "# torch.save(test_data, f\"{PATH_SAVE}/validation_{NUM_VIEWS}views.pt\")"
   ]
  },
  {
   "cell_type": "code",
   "execution_count": null,
   "id": "62bc39b0",
   "metadata": {},
   "outputs": [],
   "source": []
  }
 ],
 "metadata": {
  "kernelspec": {
   "display_name": "Python [conda env:newenv]",
   "language": "python",
   "name": "conda-env-newenv-py"
  },
  "language_info": {
   "codemirror_mode": {
    "name": "ipython",
    "version": 3
   },
   "file_extension": ".py",
   "mimetype": "text/x-python",
   "name": "python",
   "nbconvert_exporter": "python",
   "pygments_lexer": "ipython3",
   "version": "3.9.7"
  }
 },
 "nbformat": 4,
 "nbformat_minor": 5
}
